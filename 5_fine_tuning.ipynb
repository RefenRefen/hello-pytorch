{
  "nbformat": 4,
  "nbformat_minor": 0,
  "metadata": {
    "colab": {
      "provenance": [],
      "authorship_tag": "ABX9TyPUTOQyVGqLWx15YE3b/xDM",
      "include_colab_link": true
    },
    "kernelspec": {
      "name": "python3",
      "display_name": "Python 3"
    },
    "language_info": {
      "name": "python"
    },
    "gpuClass": "standard",
    "accelerator": "GPU"
  },
  "cells": [
    {
      "cell_type": "markdown",
      "metadata": {
        "id": "view-in-github",
        "colab_type": "text"
      },
      "source": [
        "<a href=\"https://colab.research.google.com/github/RefenRefen/hello-pytorch/blob/master/5_fine_tuning.ipynb\" target=\"_parent\"><img src=\"https://colab.research.google.com/assets/colab-badge.svg\" alt=\"Open In Colab\"/></a>"
      ]
    },
    {
      "cell_type": "code",
      "execution_count": 14,
      "metadata": {
        "id": "TZ0MVzOD5MAN"
      },
      "outputs": [],
      "source": [
        "import torch\n",
        "import torchvision\n",
        "from torch import nn\n",
        "import os\n",
        "from __future__ import print_function\n",
        "from torchvision import transforms, models, datasets\n",
        "import torch.nn as nn\n",
        "import time\n",
        "import copy\n",
        "import torchsummary\n",
        "from torchvision. models import ResNet18_Weights"
      ]
    },
    {
      "cell_type": "code",
      "source": [
        "print(torch.__version__)\n",
        "print(torch.cuda.get_device_name())\n",
        "print(torch.cuda.get_device_properties('cuda'))"
      ],
      "metadata": {
        "id": "tSnm5HHRvME7",
        "colab": {
          "base_uri": "https://localhost:8080/"
        },
        "outputId": "b7287df1-7f46-48a2-9ab7-44d90b9a9ebf"
      },
      "execution_count": 15,
      "outputs": [
        {
          "output_type": "stream",
          "name": "stdout",
          "text": [
            "1.13.0+cu116\n",
            "Tesla T4\n",
            "_CudaDeviceProperties(name='Tesla T4', major=7, minor=5, total_memory=15109MB, multi_processor_count=40)\n"
          ]
        }
      ]
    },
    {
      "cell_type": "code",
      "source": [
        "device = 'cuda' if torch.cuda.is_available() else 'cpu'\n",
        "print(device)"
      ],
      "metadata": {
        "colab": {
          "base_uri": "https://localhost:8080/"
        },
        "id": "_EQceJDu5Wpz",
        "outputId": "184601d4-c1bf-40ff-a53e-506f04980993"
      },
      "execution_count": 16,
      "outputs": [
        {
          "output_type": "stream",
          "name": "stdout",
          "text": [
            "cuda\n"
          ]
        }
      ]
    },
    {
      "cell_type": "markdown",
      "source": [
        "#Initialization"
      ],
      "metadata": {
        "id": "lZWTOI_NwNus"
      }
    },
    {
      "cell_type": "code",
      "source": [
        "batch_size = 256\n",
        "num_classes = 10\n",
        "num_epoch = 10"
      ],
      "metadata": {
        "id": "CmYrsAQNT1w9"
      },
      "execution_count": 17,
      "outputs": []
    },
    {
      "cell_type": "markdown",
      "source": [
        "#Dataset"
      ],
      "metadata": {
        "id": "ftpD86VBwXnr"
      }
    },
    {
      "cell_type": "code",
      "source": [
        "transform = torchvision.transforms.ToTensor()\n",
        "train_dataset = torchvision.datasets.CIFAR10('./train', train=True, transform=transform, target_transform=None, download=True)\n",
        "\n",
        "test_dataset = torchvision.datasets.CIFAR10('./test', train=False, transform=transform, target_transform=None, download=True)\n"
      ],
      "metadata": {
        "id": "MrM4LQ4MwcAT",
        "colab": {
          "base_uri": "https://localhost:8080/"
        },
        "outputId": "c33885e3-35c4-46fb-9f7e-3e2d77439aa5"
      },
      "execution_count": 18,
      "outputs": [
        {
          "output_type": "stream",
          "name": "stdout",
          "text": [
            "Files already downloaded and verified\n",
            "Files already downloaded and verified\n"
          ]
        }
      ]
    },
    {
      "cell_type": "code",
      "source": [],
      "metadata": {
        "id": "KZ6ESazWnI-t"
      },
      "execution_count": 18,
      "outputs": []
    },
    {
      "cell_type": "code",
      "source": [
        "train_loader = torch.utils.data.DataLoader(dataset=train_dataset, batch_size=batch_size, shuffle=True)\n",
        "test_loader = torch.utils.data.DataLoader(dataset=test_dataset, batch_size=batch_size, shuffle=True)\n",
        "\n",
        "dataloaders_dict = {'train': train_loader,\n",
        "                    'val': test_loader}"
      ],
      "metadata": {
        "id": "vHQ5nIjuw1Mj"
      },
      "execution_count": 19,
      "outputs": []
    },
    {
      "cell_type": "code",
      "source": [],
      "metadata": {
        "id": "y3sqe83yAUTi"
      },
      "execution_count": 19,
      "outputs": []
    },
    {
      "cell_type": "code",
      "source": [
        "from torchvision.transforms.transforms import Grayscale\n",
        "one_train_batch_imgs, one_train_batch_lbls = next(iter(train_loader))\n",
        "one_train_batch_imgs = one_train_batch_imgs.to(device)\n",
        "one_train_batch_lbls = one_train_batch_lbls.to(device)\n",
        "# print(one_train_batch_imgs.shape)\n",
        "# print(one_train_batch_lbls)\n",
        "img1 = one_train_batch_imgs[0]\n",
        "import matplotlib.pyplot as plt\n",
        "# plt.imshow(img1[0])\n",
        "print(one_train_batch_lbls[0].item())"
      ],
      "metadata": {
        "colab": {
          "base_uri": "https://localhost:8080/"
        },
        "id": "oT6_j0TZoQCu",
        "outputId": "88afbc5e-c423-497f-a9d6-b163c5e1a979"
      },
      "execution_count": 20,
      "outputs": [
        {
          "output_type": "stream",
          "name": "stdout",
          "text": [
            "6\n"
          ]
        }
      ]
    },
    {
      "cell_type": "code",
      "source": [
        "import numpy as np\n",
        "\n",
        "idx = torch.randint(0, batch_size, size=(1,))\n",
        "img = one_train_batch_imgs[idx, ...].squeeze(0)\n",
        "img = np.moveaxis(img.cpu().numpy(), 0, -1)\n",
        "img.shape\n",
        "# plt.imshow()\n",
        "plt.imshow(img, interpolation='bilinear')"
      ],
      "metadata": {
        "colab": {
          "base_uri": "https://localhost:8080/",
          "height": 283
        },
        "id": "izJmu8FPZZm8",
        "outputId": "ca6a1de1-01a5-427a-e527-3a56a0cfbcc6"
      },
      "execution_count": 21,
      "outputs": [
        {
          "output_type": "execute_result",
          "data": {
            "text/plain": [
              "<matplotlib.image.AxesImage at 0x7f0f71b3a670>"
            ]
          },
          "metadata": {},
          "execution_count": 21
        },
        {
          "output_type": "display_data",
          "data": {
            "text/plain": [
              "<Figure size 432x288 with 1 Axes>"
            ],
            "image/png": "[encoded data removed]"
          },
          "metadata": {
            "needs_background": "light"
          }
        }
      ]
    },
    {
      "cell_type": "code",
      "source": [
        "# for batch_number ,(image, labels) in enumerate(train_loader):\n",
        "#     print(batch_number, image.shape)\n"
      ],
      "metadata": {
        "id": "rKKMbqzLjVPZ"
      },
      "execution_count": 22,
      "outputs": []
    },
    {
      "cell_type": "code",
      "source": [
        "def vis(imgs, idx):\n",
        "    # idx = torch.randint(0, batch_size, size=(1,))\n",
        "    img = imgs[idx, ...].abs().sum(1).squeeze(0)\n",
        "    img = np.moveaxis(img.cpu().detach().numpy(), 0, -1)\n",
        "    plt.imshow(img, interpolation='bilinear')\n",
        "    plt.show()"
      ],
      "metadata": {
        "id": "4PNWhl9VeGJx"
      },
      "execution_count": 23,
      "outputs": []
    },
    {
      "cell_type": "markdown",
      "source": [
        "#Model"
      ],
      "metadata": {
        "id": "VC9A8UrpqfSJ"
      }
    },
    {
      "cell_type": "code",
      "source": [
        "backbone = models.resnet18(weights=ResNet18_Weights.IMAGENET1K_V1).to(device)\n",
        "\n",
        "layers = list(backbone.children())\n",
        "l1 = nn.Sequential(*layers[:-5])\n",
        "# print(l1)\n",
        "\n",
        "l2 = nn.Sequential(*layers[5])\n",
        "# print(l2)\n",
        "\n",
        "l3 = nn.Sequential(*layers[6])\n",
        "# print(l3)\n",
        "\n",
        "l4 = nn.Sequential(*layers[7:9])\n",
        "# print(l4)\n",
        "\n",
        "l5 = nn.Sequential(layers[9])\n",
        "print(l5)"
      ],
      "metadata": {
        "colab": {
          "base_uri": "https://localhost:8080/"
        },
        "id": "cJSwaUeQf7jl",
        "outputId": "25a2b490-55ac-451a-c968-af4798b47b36"
      },
      "execution_count": 24,
      "outputs": [
        {
          "output_type": "stream",
          "name": "stdout",
          "text": [
            "Sequential(\n",
            "  (0): Linear(in_features=512, out_features=1000, bias=True)\n",
            ")\n"
          ]
        }
      ]
    },
    {
      "cell_type": "code",
      "source": [
        "imgs, lbls = next(iter(dataloaders_dict['train']))\n",
        "imgs = imgs.to(device)\n",
        "lbls = lbls.to(device)\n",
        "\n",
        "idx = torch.randint(0, batch_size, size=(1,))\n",
        "y1 = l1(imgs)\n",
        "print(y1.shape)\n",
        "# vis(y1, idx)\n",
        "\n",
        "y2 = l2(y1)\n",
        "print(y2.shape)\n",
        "\n",
        "y3 = l3(y2)\n",
        "print(y3.shape)\n",
        "\n",
        "y4 = l4(y3)\n",
        "print(y4.shape)\n",
        "\n",
        "n1 = nn.Conv2d(in_channels=64, out_channels=512, kernel_size=1, stride=8).to(device)\n",
        "z1 = n1(y1) * y4\n",
        "z1 = z1.view(z1.size(0), -1)\n",
        "print('z1:', z1.shape)\n",
        "\n",
        "n2 = nn.Conv2d(in_channels=128, out_channels=512, kernel_size=1, stride=4).to(device)\n",
        "z2 = n2(y2) * y4\n",
        "z2 = z2.view(z2.size(0), -1)\n",
        "print('z2:', z2.shape)\n",
        "\n",
        "n3 = nn.Conv2d(in_channels=256, out_channels=512, kernel_size=2, stride=4).to(device)\n",
        "z3 = n3(y3) * y4\n",
        "z3 = z3.view(z3.size(0), -1)\n",
        "print('z3:', z3.shape)\n",
        "\n",
        "\n",
        "zt = torch.cat((z1, z2, z3), dim=1)\n",
        "\n",
        "fc = nn.Linear(in_features=512*3, out_features=10, bias=False).to(device)\n",
        "output = fc(zt)\n",
        "output.shape\n",
        "\n"
      ],
      "metadata": {
        "colab": {
          "base_uri": "https://localhost:8080/"
        },
        "id": "1VJn7l2gSBOg",
        "outputId": "d612d57c-d029-43d3-80b0-f35737e92b50"
      },
      "execution_count": 51,
      "outputs": [
        {
          "output_type": "stream",
          "name": "stdout",
          "text": [
            "torch.Size([256, 64, 8, 8])\n",
            "torch.Size([256, 128, 4, 4])\n",
            "torch.Size([256, 256, 2, 2])\n",
            "torch.Size([256, 512, 1, 1])\n",
            "z1: torch.Size([256, 512])\n",
            "z2: torch.Size([256, 512])\n",
            "z3: torch.Size([256, 512])\n"
          ]
        },
        {
          "output_type": "execute_result",
          "data": {
            "text/plain": [
              "torch.Size([256, 10])"
            ]
          },
          "metadata": {},
          "execution_count": 51
        }
      ]
    },
    {
      "cell_type": "code",
      "source": [
        "l1[0]"
      ],
      "metadata": {
        "colab": {
          "base_uri": "https://localhost:8080/"
        },
        "id": "dbriY-tWUqHl",
        "outputId": "58655709-c389-4bff-a59e-d830fbaee82c"
      },
      "execution_count": 52,
      "outputs": [
        {
          "output_type": "execute_result",
          "data": {
            "text/plain": [
              "Conv2d(3, 64, kernel_size=(7, 7), stride=(2, 2), padding=(3, 3), bias=False)"
            ]
          },
          "metadata": {},
          "execution_count": 52
        }
      ]
    },
    {
      "cell_type": "code",
      "source": [
        "from torchvision.models.resnet import ResNet18_Weights\n",
        "class convnet(nn.Module):\n",
        "    def __init__(self, num_class):\n",
        "        super(convnet, self).__init__()\n",
        "        self.backbone = models.resnet18(weights=ResNet18_Weights.IMAGENET1K_V1)\n",
        "        self.backbone.fc = nn.Linear(in_features=512, out_features=10, bias=False)\n",
        "\n",
        "    def forward(self, x):\n",
        "        y = self.backbone(x)\n",
        "        return y\n",
        "        "
      ],
      "metadata": {
        "id": "_qNQgCKRuGug"
      },
      "execution_count": 26,
      "outputs": []
    },
    {
      "cell_type": "code",
      "source": [
        "model_ = convnet(num_classes).to(device)\n",
        "print(model_)\n",
        "# torchsummary.summary(model_, (3, 32, 32))"
      ],
      "metadata": {
        "id": "AvJZU_thw9vn",
        "colab": {
          "base_uri": "https://localhost:8080/"
        },
        "outputId": "a9a58366-bfb1-42aa-fcf1-0031cf6000e3"
      },
      "execution_count": 27,
      "outputs": [
        {
          "output_type": "stream",
          "name": "stdout",
          "text": [
            "convnet(\n",
            "  (backbone): ResNet(\n",
            "    (conv1): Conv2d(3, 64, kernel_size=(7, 7), stride=(2, 2), padding=(3, 3), bias=False)\n",
            "    (bn1): BatchNorm2d(64, eps=1e-05, momentum=0.1, affine=True, track_running_stats=True)\n",
            "    (relu): ReLU(inplace=True)\n",
            "    (maxpool): MaxPool2d(kernel_size=3, stride=2, padding=1, dilation=1, ceil_mode=False)\n",
            "    (layer1): Sequential(\n",
            "      (0): BasicBlock(\n",
            "        (conv1): Conv2d(64, 64, kernel_size=(3, 3), stride=(1, 1), padding=(1, 1), bias=False)\n",
            "        (bn1): BatchNorm2d(64, eps=1e-05, momentum=0.1, affine=True, track_running_stats=True)\n",
            "        (relu): ReLU(inplace=True)\n",
            "        (conv2): Conv2d(64, 64, kernel_size=(3, 3), stride=(1, 1), padding=(1, 1), bias=False)\n",
            "        (bn2): BatchNorm2d(64, eps=1e-05, momentum=0.1, affine=True, track_running_stats=True)\n",
            "      )\n",
            "      (1): BasicBlock(\n",
            "        (conv1): Conv2d(64, 64, kernel_size=(3, 3), stride=(1, 1), padding=(1, 1), bias=False)\n",
            "        (bn1): BatchNorm2d(64, eps=1e-05, momentum=0.1, affine=True, track_running_stats=True)\n",
            "        (relu): ReLU(inplace=True)\n",
            "        (conv2): Conv2d(64, 64, kernel_size=(3, 3), stride=(1, 1), padding=(1, 1), bias=False)\n",
            "        (bn2): BatchNorm2d(64, eps=1e-05, momentum=0.1, affine=True, track_running_stats=True)\n",
            "      )\n",
            "    )\n",
            "    (layer2): Sequential(\n",
            "      (0): BasicBlock(\n",
            "        (conv1): Conv2d(64, 128, kernel_size=(3, 3), stride=(2, 2), padding=(1, 1), bias=False)\n",
            "        (bn1): BatchNorm2d(128, eps=1e-05, momentum=0.1, affine=True, track_running_stats=True)\n",
            "        (relu): ReLU(inplace=True)\n",
            "        (conv2): Conv2d(128, 128, kernel_size=(3, 3), stride=(1, 1), padding=(1, 1), bias=False)\n",
            "        (bn2): BatchNorm2d(128, eps=1e-05, momentum=0.1, affine=True, track_running_stats=True)\n",
            "        (downsample): Sequential(\n",
            "          (0): Conv2d(64, 128, kernel_size=(1, 1), stride=(2, 2), bias=False)\n",
            "          (1): BatchNorm2d(128, eps=1e-05, momentum=0.1, affine=True, track_running_stats=True)\n",
            "        )\n",
            "      )\n",
            "      (1): BasicBlock(\n",
            "        (conv1): Conv2d(128, 128, kernel_size=(3, 3), stride=(1, 1), padding=(1, 1), bias=False)\n",
            "        (bn1): BatchNorm2d(128, eps=1e-05, momentum=0.1, affine=True, track_running_stats=True)\n",
            "        (relu): ReLU(inplace=True)\n",
            "        (conv2): Conv2d(128, 128, kernel_size=(3, 3), stride=(1, 1), padding=(1, 1), bias=False)\n",
            "        (bn2): BatchNorm2d(128, eps=1e-05, momentum=0.1, affine=True, track_running_stats=True)\n",
            "      )\n",
            "    )\n",
            "    (layer3): Sequential(\n",
            "      (0): BasicBlock(\n",
            "        (conv1): Conv2d(128, 256, kernel_size=(3, 3), stride=(2, 2), padding=(1, 1), bias=False)\n",
            "        (bn1): BatchNorm2d(256, eps=1e-05, momentum=0.1, affine=True, track_running_stats=True)\n",
            "        (relu): ReLU(inplace=True)\n",
            "        (conv2): Conv2d(256, 256, kernel_size=(3, 3), stride=(1, 1), padding=(1, 1), bias=False)\n",
            "        (bn2): BatchNorm2d(256, eps=1e-05, momentum=0.1, affine=True, track_running_stats=True)\n",
            "        (downsample): Sequential(\n",
            "          (0): Conv2d(128, 256, kernel_size=(1, 1), stride=(2, 2), bias=False)\n",
            "          (1): BatchNorm2d(256, eps=1e-05, momentum=0.1, affine=True, track_running_stats=True)\n",
            "        )\n",
            "      )\n",
            "      (1): BasicBlock(\n",
            "        (conv1): Conv2d(256, 256, kernel_size=(3, 3), stride=(1, 1), padding=(1, 1), bias=False)\n",
            "        (bn1): BatchNorm2d(256, eps=1e-05, momentum=0.1, affine=True, track_running_stats=True)\n",
            "        (relu): ReLU(inplace=True)\n",
            "        (conv2): Conv2d(256, 256, kernel_size=(3, 3), stride=(1, 1), padding=(1, 1), bias=False)\n",
            "        (bn2): BatchNorm2d(256, eps=1e-05, momentum=0.1, affine=True, track_running_stats=True)\n",
            "      )\n",
            "    )\n",
            "    (layer4): Sequential(\n",
            "      (0): BasicBlock(\n",
            "        (conv1): Conv2d(256, 512, kernel_size=(3, 3), stride=(2, 2), padding=(1, 1), bias=False)\n",
            "        (bn1): BatchNorm2d(512, eps=1e-05, momentum=0.1, affine=True, track_running_stats=True)\n",
            "        (relu): ReLU(inplace=True)\n",
            "        (conv2): Conv2d(512, 512, kernel_size=(3, 3), stride=(1, 1), padding=(1, 1), bias=False)\n",
            "        (bn2): BatchNorm2d(512, eps=1e-05, momentum=0.1, affine=True, track_running_stats=True)\n",
            "        (downsample): Sequential(\n",
            "          (0): Conv2d(256, 512, kernel_size=(1, 1), stride=(2, 2), bias=False)\n",
            "          (1): BatchNorm2d(512, eps=1e-05, momentum=0.1, affine=True, track_running_stats=True)\n",
            "        )\n",
            "      )\n",
            "      (1): BasicBlock(\n",
            "        (conv1): Conv2d(512, 512, kernel_size=(3, 3), stride=(1, 1), padding=(1, 1), bias=False)\n",
            "        (bn1): BatchNorm2d(512, eps=1e-05, momentum=0.1, affine=True, track_running_stats=True)\n",
            "        (relu): ReLU(inplace=True)\n",
            "        (conv2): Conv2d(512, 512, kernel_size=(3, 3), stride=(1, 1), padding=(1, 1), bias=False)\n",
            "        (bn2): BatchNorm2d(512, eps=1e-05, momentum=0.1, affine=True, track_running_stats=True)\n",
            "      )\n",
            "    )\n",
            "    (avgpool): AdaptiveAvgPool2d(output_size=(1, 1))\n",
            "    (fc): Linear(in_features=512, out_features=10, bias=False)\n",
            "  )\n",
            ")\n"
          ]
        }
      ]
    },
    {
      "cell_type": "code",
      "source": [
        "y = model_(one_train_batch_imgs)\n",
        "y[idx, ...]"
      ],
      "metadata": {
        "colab": {
          "base_uri": "https://localhost:8080/"
        },
        "id": "JB90rCLeejb9",
        "outputId": "5cad6f60-fe2d-47ec-c503-bcdc0d96484a"
      },
      "execution_count": 28,
      "outputs": [
        {
          "output_type": "execute_result",
          "data": {
            "text/plain": [
              "tensor([[-0.0151, -0.0631,  0.4233, -0.3502, -0.6242, -0.1918, -0.2445, -0.0549,\n",
              "          0.3999,  0.0601]], device='cuda:0', grad_fn=<IndexBackward0>)"
            ]
          },
          "metadata": {},
          "execution_count": 28
        }
      ]
    },
    {
      "cell_type": "code",
      "source": [
        "model_.backbone.layer1"
      ],
      "metadata": {
        "colab": {
          "base_uri": "https://localhost:8080/"
        },
        "id": "R37iYAi7ffGi",
        "outputId": "49f9754c-458a-4801-dfd1-0c638887424b"
      },
      "execution_count": 29,
      "outputs": [
        {
          "output_type": "execute_result",
          "data": {
            "text/plain": [
              "Sequential(\n",
              "  (0): BasicBlock(\n",
              "    (conv1): Conv2d(64, 64, kernel_size=(3, 3), stride=(1, 1), padding=(1, 1), bias=False)\n",
              "    (bn1): BatchNorm2d(64, eps=1e-05, momentum=0.1, affine=True, track_running_stats=True)\n",
              "    (relu): ReLU(inplace=True)\n",
              "    (conv2): Conv2d(64, 64, kernel_size=(3, 3), stride=(1, 1), padding=(1, 1), bias=False)\n",
              "    (bn2): BatchNorm2d(64, eps=1e-05, momentum=0.1, affine=True, track_running_stats=True)\n",
              "  )\n",
              "  (1): BasicBlock(\n",
              "    (conv1): Conv2d(64, 64, kernel_size=(3, 3), stride=(1, 1), padding=(1, 1), bias=False)\n",
              "    (bn1): BatchNorm2d(64, eps=1e-05, momentum=0.1, affine=True, track_running_stats=True)\n",
              "    (relu): ReLU(inplace=True)\n",
              "    (conv2): Conv2d(64, 64, kernel_size=(3, 3), stride=(1, 1), padding=(1, 1), bias=False)\n",
              "    (bn2): BatchNorm2d(64, eps=1e-05, momentum=0.1, affine=True, track_running_stats=True)\n",
              "  )\n",
              ")"
            ]
          },
          "metadata": {},
          "execution_count": 29
        }
      ]
    },
    {
      "cell_type": "code",
      "source": [
        "for name, param in model_.named_parameters():\n",
        "    print(name)"
      ],
      "metadata": {
        "colab": {
          "base_uri": "https://localhost:8080/"
        },
        "id": "BvCeZMmpWysH",
        "outputId": "55c4e52d-3e56-45a0-d02a-fbb58e7e6362"
      },
      "execution_count": 30,
      "outputs": [
        {
          "output_type": "stream",
          "name": "stdout",
          "text": [
            "backbone.conv1.weight\n",
            "backbone.bn1.weight\n",
            "backbone.bn1.bias\n",
            "backbone.layer1.0.conv1.weight\n",
            "backbone.layer1.0.bn1.weight\n",
            "backbone.layer1.0.bn1.bias\n",
            "backbone.layer1.0.conv2.weight\n",
            "backbone.layer1.0.bn2.weight\n",
            "backbone.layer1.0.bn2.bias\n",
            "backbone.layer1.1.conv1.weight\n",
            "backbone.layer1.1.bn1.weight\n",
            "backbone.layer1.1.bn1.bias\n",
            "backbone.layer1.1.conv2.weight\n",
            "backbone.layer1.1.bn2.weight\n",
            "backbone.layer1.1.bn2.bias\n",
            "backbone.layer2.0.conv1.weight\n",
            "backbone.layer2.0.bn1.weight\n",
            "backbone.layer2.0.bn1.bias\n",
            "backbone.layer2.0.conv2.weight\n",
            "backbone.layer2.0.bn2.weight\n",
            "backbone.layer2.0.bn2.bias\n",
            "backbone.layer2.0.downsample.0.weight\n",
            "backbone.layer2.0.downsample.1.weight\n",
            "backbone.layer2.0.downsample.1.bias\n",
            "backbone.layer2.1.conv1.weight\n",
            "backbone.layer2.1.bn1.weight\n",
            "backbone.layer2.1.bn1.bias\n",
            "backbone.layer2.1.conv2.weight\n",
            "backbone.layer2.1.bn2.weight\n",
            "backbone.layer2.1.bn2.bias\n",
            "backbone.layer3.0.conv1.weight\n",
            "backbone.layer3.0.bn1.weight\n",
            "backbone.layer3.0.bn1.bias\n",
            "backbone.layer3.0.conv2.weight\n",
            "backbone.layer3.0.bn2.weight\n",
            "backbone.layer3.0.bn2.bias\n",
            "backbone.layer3.0.downsample.0.weight\n",
            "backbone.layer3.0.downsample.1.weight\n",
            "backbone.layer3.0.downsample.1.bias\n",
            "backbone.layer3.1.conv1.weight\n",
            "backbone.layer3.1.bn1.weight\n",
            "backbone.layer3.1.bn1.bias\n",
            "backbone.layer3.1.conv2.weight\n",
            "backbone.layer3.1.bn2.weight\n",
            "backbone.layer3.1.bn2.bias\n",
            "backbone.layer4.0.conv1.weight\n",
            "backbone.layer4.0.bn1.weight\n",
            "backbone.layer4.0.bn1.bias\n",
            "backbone.layer4.0.conv2.weight\n",
            "backbone.layer4.0.bn2.weight\n",
            "backbone.layer4.0.bn2.bias\n",
            "backbone.layer4.0.downsample.0.weight\n",
            "backbone.layer4.0.downsample.1.weight\n",
            "backbone.layer4.0.downsample.1.bias\n",
            "backbone.layer4.1.conv1.weight\n",
            "backbone.layer4.1.bn1.weight\n",
            "backbone.layer4.1.bn1.bias\n",
            "backbone.layer4.1.conv2.weight\n",
            "backbone.layer4.1.bn2.weight\n",
            "backbone.layer4.1.bn2.bias\n",
            "backbone.fc.weight\n"
          ]
        }
      ]
    },
    {
      "cell_type": "code",
      "source": [
        "# freezing some layers\n",
        "for name, param in model_.named_parameters():\n",
        "    if 'fc' in name:\n",
        "        param.requires_grad = True\n",
        "        print(name)\n",
        "    else:\n",
        "        param.requires_grad = False\n"
      ],
      "metadata": {
        "colab": {
          "base_uri": "https://localhost:8080/"
        },
        "id": "Rzak7ZAqVJXc",
        "outputId": "0069d1a3-399d-426f-b743-1a8588f5ee2d"
      },
      "execution_count": 31,
      "outputs": [
        {
          "output_type": "stream",
          "name": "stdout",
          "text": [
            "backbone.fc.weight\n"
          ]
        }
      ]
    },
    {
      "cell_type": "code",
      "source": [
        "flag = False\n",
        "for name, param in model_.named_parameters():\n",
        "    if 'layer3.0' in name or flag:\n",
        "        param.requires_grad = True\n",
        "        print(name)\n",
        "        flag = True\n",
        "    else:\n",
        "        param.requires_grad = False\n"
      ],
      "metadata": {
        "colab": {
          "base_uri": "https://localhost:8080/"
        },
        "id": "PI1w8DCTXTDT",
        "outputId": "c29f361a-bca5-41a8-d3d1-c15dc02a6207"
      },
      "execution_count": 32,
      "outputs": [
        {
          "output_type": "stream",
          "name": "stdout",
          "text": [
            "backbone.layer3.0.conv1.weight\n",
            "backbone.layer3.0.bn1.weight\n",
            "backbone.layer3.0.bn1.bias\n",
            "backbone.layer3.0.conv2.weight\n",
            "backbone.layer3.0.bn2.weight\n",
            "backbone.layer3.0.bn2.bias\n",
            "backbone.layer3.0.downsample.0.weight\n",
            "backbone.layer3.0.downsample.1.weight\n",
            "backbone.layer3.0.downsample.1.bias\n",
            "backbone.layer3.1.conv1.weight\n",
            "backbone.layer3.1.bn1.weight\n",
            "backbone.layer3.1.bn1.bias\n",
            "backbone.layer3.1.conv2.weight\n",
            "backbone.layer3.1.bn2.weight\n",
            "backbone.layer3.1.bn2.bias\n",
            "backbone.layer4.0.conv1.weight\n",
            "backbone.layer4.0.bn1.weight\n",
            "backbone.layer4.0.bn1.bias\n",
            "backbone.layer4.0.conv2.weight\n",
            "backbone.layer4.0.bn2.weight\n",
            "backbone.layer4.0.bn2.bias\n",
            "backbone.layer4.0.downsample.0.weight\n",
            "backbone.layer4.0.downsample.1.weight\n",
            "backbone.layer4.0.downsample.1.bias\n",
            "backbone.layer4.1.conv1.weight\n",
            "backbone.layer4.1.bn1.weight\n",
            "backbone.layer4.1.bn1.bias\n",
            "backbone.layer4.1.conv2.weight\n",
            "backbone.layer4.1.bn2.weight\n",
            "backbone.layer4.1.bn2.bias\n",
            "backbone.fc.weight\n"
          ]
        }
      ]
    },
    {
      "cell_type": "code",
      "source": [],
      "metadata": {
        "id": "I4BpCH4cVWRc"
      },
      "execution_count": 32,
      "outputs": []
    },
    {
      "cell_type": "code",
      "source": [
        "model_.backbone.fc"
      ],
      "metadata": {
        "colab": {
          "base_uri": "https://localhost:8080/"
        },
        "id": "rSt3q9pPPQ8x",
        "outputId": "d1a7d7ef-f286-4f62-f0e9-ddc92d4bebb2"
      },
      "execution_count": 33,
      "outputs": [
        {
          "output_type": "execute_result",
          "data": {
            "text/plain": [
              "Linear(in_features=512, out_features=10, bias=False)"
            ]
          },
          "metadata": {},
          "execution_count": 33
        }
      ]
    },
    {
      "cell_type": "code",
      "source": [],
      "metadata": {
        "id": "kBxzJ86sxEFd"
      },
      "execution_count": 33,
      "outputs": []
    },
    {
      "cell_type": "markdown",
      "source": [
        "#Config"
      ],
      "metadata": {
        "id": "lZxqxCV6FNOU"
      }
    },
    {
      "cell_type": "code",
      "source": [
        "criterion = nn.CrossEntropyLoss()\n",
        "optimizer = torch.optim.SGD(model_.parameters(), lr=0.001, momentum=0.9)\n"
      ],
      "metadata": {
        "id": "Wn4aJZY8EQeX"
      },
      "execution_count": 34,
      "outputs": []
    },
    {
      "cell_type": "code",
      "source": [
        "dataloaders_dict['train']"
      ],
      "metadata": {
        "colab": {
          "base_uri": "https://localhost:8080/"
        },
        "id": "Sxu5HWV9h1j-",
        "outputId": "da29e44a-dfd5-4d78-dd89-05881f1db52c"
      },
      "execution_count": 35,
      "outputs": [
        {
          "output_type": "execute_result",
          "data": {
            "text/plain": [
              "<torch.utils.data.dataloader.DataLoader at 0x7f0f71b05730>"
            ]
          },
          "metadata": {},
          "execution_count": 35
        }
      ]
    },
    {
      "cell_type": "markdown",
      "source": [
        "# Trainer"
      ],
      "metadata": {
        "id": "URYJA3t1Ofst"
      }
    },
    {
      "cell_type": "code",
      "source": [
        "# for epoch in range(num_epoch):\n",
        "    \n",
        "#     print('Epoch {}/{}'.format(epoch, num_epoch - 1))\n",
        "#     print('-' * 10)\n",
        "\n",
        "#     for phase in ['train', 'val']:\n",
        "        \n",
        "#         running_loss = 0\n",
        "#         running_corrects = 0\n",
        "\n",
        "#         for inputs, labels in dataloaders_dict[phase]:\n",
        "            \n",
        "#             inputs = inputs.to(device)\n",
        "#             labels = labels.to(device)\n",
        "#             optimizer.zero_grad()\n",
        "\n",
        "#             outputs = model_(inputs) # (256, 10)\n",
        "#             loss = criterion(outputs, labels)\n",
        "#             _, preds = torch.max(outputs, 1) # preds contains the index of maxmimum in 10 output for each record (256,)\n",
        "\n",
        "#             if phase == 'train':\n",
        "#                         loss.backward()\n",
        "#                         optimizer.step()\n",
        "            \n",
        "#             running_loss += loss.item() * inputs.size(0)\n",
        "#             running_corrects += torch.sum(preds == labels.data)\n",
        "            \n",
        "#         epoch_loss = running_loss / len(dataloaders_dict[phase].dataset)\n",
        "#         epoch_acc = running_corrects.double() / len(dataloaders_dict[phase].dataset)\n",
        "\n",
        "#         print('{} Loss: {:.4f} Acc: {:.4f}'.format(phase, epoch_loss, epoch_acc))\n",
        "\n",
        "\n",
        "\n"
      ],
      "metadata": {
        "id": "YKa3Nn332oFz"
      },
      "execution_count": 36,
      "outputs": []
    },
    {
      "cell_type": "code",
      "source": [
        "# len(dataloaders_dict[phase].dataset)"
      ],
      "metadata": {
        "id": "c8cpNwoFvt_N"
      },
      "execution_count": 37,
      "outputs": []
    },
    {
      "cell_type": "code",
      "source": [
        "def train_model(model, dataloaders, criterion, optimizer, num_epochs=25):\n",
        "    since = time.time()\n",
        "\n",
        "    val_acc_history = []\n",
        "\n",
        "    best_model_wts = copy.deepcopy(model.state_dict())\n",
        "    best_acc = 0.0\n",
        "\n",
        "    for epoch in range(num_epochs):\n",
        "        print('Epoch {}/{}'.format(epoch, num_epochs - 1))\n",
        "        print('-' * 10)\n",
        "\n",
        "        # Each epoch has a training and validation phase\n",
        "        for phase in ['train', 'val']:\n",
        "            # if phase == 'train':\n",
        "            #     model.train()  # Set model to training mode\n",
        "            # else:\n",
        "            #     model.eval()   # Set model to evaluate mode\n",
        "\n",
        "            running_loss = 0.0\n",
        "            running_corrects = 0\n",
        "\n",
        "            # Iterate over data.\n",
        "            for inputs, labels in dataloaders[phase]:\n",
        "                inputs = inputs.to(device)\n",
        "                labels = labels.to(device)\n",
        "\n",
        "                # zero the parameter gradients\n",
        "                optimizer.zero_grad()\n",
        "\n",
        "                # forward\n",
        "                # track history if only in train\n",
        "                with torch.set_grad_enabled(phase == 'train'):\n",
        "                    # Get model outputs and calculate loss\n",
        "                    # Special case for inception because in training it has an auxiliary output. In train\n",
        "                    #   mode we calculate the loss by summing the final output and the auxiliary output\n",
        "                    #   but in testing we only consider the final output.\n",
        "                    outputs = model(inputs)\n",
        "                    loss = criterion(outputs, labels)\n",
        "\n",
        "                    _, preds = torch.max(outputs, 1)\n",
        "\n",
        "                    # backward + optimize only if in training phase\n",
        "                    if phase == 'train':\n",
        "                        loss.backward()\n",
        "                        optimizer.step()\n",
        "\n",
        "                # statistics\n",
        "                running_loss += loss.item() * inputs.size(0)\n",
        "                running_corrects += torch.sum(preds == labels.data)\n",
        "\n",
        "            epoch_loss = running_loss / len(dataloaders[phase].dataset)\n",
        "            epoch_acc = running_corrects.double() / len(dataloaders[phase].dataset)\n",
        "\n",
        "            print('{} Loss: {:.4f} Acc: {:.4f}'.format(phase, epoch_loss, epoch_acc))\n",
        "\n",
        "            # deep copy the model\n",
        "            if phase == 'val' and epoch_acc > best_acc:\n",
        "                best_acc = epoch_acc\n",
        "                best_model_wts = copy.deepcopy(model.state_dict())\n",
        "            if phase == 'val':\n",
        "                val_acc_history.append(epoch_acc)\n",
        "\n",
        "        print()\n",
        "\n",
        "    time_elapsed = time.time() - since\n",
        "    print('Training complete in {:.0f}m {:.0f}s'.format(time_elapsed // 60, time_elapsed % 60))\n",
        "    print('Best val Acc: {:4f}'.format(best_acc))\n",
        "\n",
        "    # load best model weights\n",
        "    model.load_state_dict(best_model_wts)\n",
        "    return model, val_acc_history"
      ],
      "metadata": {
        "id": "S721DHCGOi3H"
      },
      "execution_count": 38,
      "outputs": []
    },
    {
      "cell_type": "code",
      "source": [
        "\n"
      ],
      "metadata": {
        "id": "W9nLOdUNfgTp"
      },
      "execution_count": 38,
      "outputs": []
    },
    {
      "cell_type": "code",
      "source": [
        "model_ft, hist = train_model(model_, dataloaders_dict, criterion, optimizer, num_epochs=10)"
      ],
      "metadata": {
        "id": "xBZAQqwgGw8E",
        "colab": {
          "base_uri": "https://localhost:8080/"
        },
        "outputId": "d18a5f71-1c70-43fa-c8c1-264b03d16054"
      },
      "execution_count": 39,
      "outputs": [
        {
          "output_type": "stream",
          "name": "stdout",
          "text": [
            "Epoch 0/9\n",
            "----------\n",
            "train Loss: 1.4628 Acc: 0.4869\n",
            "val Loss: 1.1357 Acc: 0.5958\n",
            "\n",
            "Epoch 1/9\n",
            "----------\n",
            "train Loss: 0.9682 Acc: 0.6608\n",
            "val Loss: 0.9985 Acc: 0.6464\n",
            "\n",
            "Epoch 2/9\n",
            "----------\n",
            "train Loss: 0.7919 Acc: 0.7206\n",
            "val Loss: 0.9433 Acc: 0.6739\n",
            "\n",
            "Epoch 3/9\n",
            "----------\n",
            "train Loss: 0.6664 Acc: 0.7678\n",
            "val Loss: 0.9200 Acc: 0.6830\n",
            "\n",
            "Epoch 4/9\n",
            "----------\n",
            "train Loss: 0.5632 Acc: 0.8052\n",
            "val Loss: 0.9198 Acc: 0.6918\n",
            "\n",
            "Epoch 5/9\n",
            "----------\n",
            "train Loss: 0.4635 Acc: 0.8432\n",
            "val Loss: 0.9459 Acc: 0.6904\n",
            "\n",
            "Epoch 6/9\n",
            "----------\n",
            "train Loss: 0.3716 Acc: 0.8783\n",
            "val Loss: 0.9693 Acc: 0.6964\n",
            "\n",
            "Epoch 7/9\n",
            "----------\n",
            "train Loss: 0.2915 Acc: 0.9068\n",
            "val Loss: 1.0287 Acc: 0.6940\n",
            "\n",
            "Epoch 8/9\n",
            "----------\n",
            "train Loss: 0.2196 Acc: 0.9351\n",
            "val Loss: 1.0936 Acc: 0.6910\n",
            "\n",
            "Epoch 9/9\n",
            "----------\n",
            "train Loss: 0.1627 Acc: 0.9554\n",
            "val Loss: 1.1499 Acc: 0.6947\n",
            "\n",
            "Training complete in 1m 52s\n",
            "Best val Acc: 0.696400\n"
          ]
        }
      ]
    },
    {
      "cell_type": "code",
      "source": [],
      "metadata": {
        "id": "tEeDyPSSUc3-"
      },
      "execution_count": 39,
      "outputs": []
    }
  ]
}